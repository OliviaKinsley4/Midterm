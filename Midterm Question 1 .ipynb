{
 "cells": [
  {
   "cell_type": "code",
   "execution_count": 135,
   "id": "7a1b973d",
   "metadata": {
    "scrolled": true
   },
   "outputs": [],
   "source": [
    "f = open(\"numbers.txt\", \"r\")\n",
    "for x in f:\n",
    "    number_list = x"
   ]
  },
  {
   "cell_type": "code",
   "execution_count": 136,
   "id": "70feb8df",
   "metadata": {
    "scrolled": false
   },
   "outputs": [
    {
     "data": {
      "text/plain": [
       "'2,4,6,8,4,5,2,1,9,0,4,6,7,4,3,2,1,9,10,3,7,9,6,0,1,3,5,6,7,8,9,10,2,3,6,8,9,10,6,7,4,3,2,1,9,10,3,7,9,6,0,1,3,5,6,7,8,9,10,2,3,6,8,9,10,2,4,6,8,4,5,2,1,9,0,4,6,7,4,3,2,1,9,10,3,7,9,6,4,5,2,1,9,0,4,6,7,4,3,2,1,9,10,3,7,9,6,0,1,3,5,6,7,8,9,10,2,3,6,8,9,10,6,7,4,3,6,8,4,5,2,10,3,7,9,6,0,1,3,5,6,7,8,9,10,2,3,6,8,9,10,2,4,6,8,4,5,2,1,9,0,4,6,7,4,2,4,6,8,4,5,2,1,9,0,4,6,7,4,3,2,1,9,10,3,7,9,6'"
      ]
     },
     "execution_count": 136,
     "metadata": {},
     "output_type": "execute_result"
    }
   ],
   "source": [
    "number_list"
   ]
  },
  {
   "cell_type": "code",
   "execution_count": 137,
   "id": "460c9791",
   "metadata": {},
   "outputs": [
    {
     "data": {
      "text/plain": [
       "['2',\n",
       " '4',\n",
       " '6',\n",
       " '8',\n",
       " '4',\n",
       " '5',\n",
       " '2',\n",
       " '1',\n",
       " '9',\n",
       " '0',\n",
       " '4',\n",
       " '6',\n",
       " '7',\n",
       " '4',\n",
       " '3',\n",
       " '2',\n",
       " '1',\n",
       " '9',\n",
       " '10',\n",
       " '3',\n",
       " '7',\n",
       " '9',\n",
       " '6',\n",
       " '0',\n",
       " '1',\n",
       " '3',\n",
       " '5',\n",
       " '6',\n",
       " '7',\n",
       " '8',\n",
       " '9',\n",
       " '10',\n",
       " '2',\n",
       " '3',\n",
       " '6',\n",
       " '8',\n",
       " '9',\n",
       " '10',\n",
       " '6',\n",
       " '7',\n",
       " '4',\n",
       " '3',\n",
       " '2',\n",
       " '1',\n",
       " '9',\n",
       " '10',\n",
       " '3',\n",
       " '7',\n",
       " '9',\n",
       " '6',\n",
       " '0',\n",
       " '1',\n",
       " '3',\n",
       " '5',\n",
       " '6',\n",
       " '7',\n",
       " '8',\n",
       " '9',\n",
       " '10',\n",
       " '2',\n",
       " '3',\n",
       " '6',\n",
       " '8',\n",
       " '9',\n",
       " '10',\n",
       " '2',\n",
       " '4',\n",
       " '6',\n",
       " '8',\n",
       " '4',\n",
       " '5',\n",
       " '2',\n",
       " '1',\n",
       " '9',\n",
       " '0',\n",
       " '4',\n",
       " '6',\n",
       " '7',\n",
       " '4',\n",
       " '3',\n",
       " '2',\n",
       " '1',\n",
       " '9',\n",
       " '10',\n",
       " '3',\n",
       " '7',\n",
       " '9',\n",
       " '6',\n",
       " '4',\n",
       " '5',\n",
       " '2',\n",
       " '1',\n",
       " '9',\n",
       " '0',\n",
       " '4',\n",
       " '6',\n",
       " '7',\n",
       " '4',\n",
       " '3',\n",
       " '2',\n",
       " '1',\n",
       " '9',\n",
       " '10',\n",
       " '3',\n",
       " '7',\n",
       " '9',\n",
       " '6',\n",
       " '0',\n",
       " '1',\n",
       " '3',\n",
       " '5',\n",
       " '6',\n",
       " '7',\n",
       " '8',\n",
       " '9',\n",
       " '10',\n",
       " '2',\n",
       " '3',\n",
       " '6',\n",
       " '8',\n",
       " '9',\n",
       " '10',\n",
       " '6',\n",
       " '7',\n",
       " '4',\n",
       " '3',\n",
       " '6',\n",
       " '8',\n",
       " '4',\n",
       " '5',\n",
       " '2',\n",
       " '10',\n",
       " '3',\n",
       " '7',\n",
       " '9',\n",
       " '6',\n",
       " '0',\n",
       " '1',\n",
       " '3',\n",
       " '5',\n",
       " '6',\n",
       " '7',\n",
       " '8',\n",
       " '9',\n",
       " '10',\n",
       " '2',\n",
       " '3',\n",
       " '6',\n",
       " '8',\n",
       " '9',\n",
       " '10',\n",
       " '2',\n",
       " '4',\n",
       " '6',\n",
       " '8',\n",
       " '4',\n",
       " '5',\n",
       " '2',\n",
       " '1',\n",
       " '9',\n",
       " '0',\n",
       " '4',\n",
       " '6',\n",
       " '7',\n",
       " '4',\n",
       " '2',\n",
       " '4',\n",
       " '6',\n",
       " '8',\n",
       " '4',\n",
       " '5',\n",
       " '2',\n",
       " '1',\n",
       " '9',\n",
       " '0',\n",
       " '4',\n",
       " '6',\n",
       " '7',\n",
       " '4',\n",
       " '3',\n",
       " '2',\n",
       " '1',\n",
       " '9',\n",
       " '10',\n",
       " '3',\n",
       " '7',\n",
       " '9',\n",
       " '6']"
      ]
     },
     "execution_count": 137,
     "metadata": {},
     "output_type": "execute_result"
    }
   ],
   "source": [
    "number_list.split(\",\")"
   ]
  },
  {
   "cell_type": "code",
   "execution_count": 138,
   "id": "052e549b",
   "metadata": {
    "scrolled": true
   },
   "outputs": [
    {
     "name": "stdout",
     "output_type": "stream",
     "text": [
      "2 ->  19\n",
      "4 ->  22\n",
      "6 ->  26\n",
      "8 ->  13\n",
      "5 ->  10\n",
      "1 ->  14\n",
      "9 ->  24\n",
      "0 ->  9\n",
      "7 ->  17\n",
      "3 ->  20\n",
      "10 ->  14\n"
     ]
    }
   ],
   "source": [
    "num_data = []\n",
    "frequency = {}\n",
    "for item in number_list.split(\",\"):\n",
    "   num_data.append(int(item))\n",
    "   if (item in frequency):\n",
    "      frequency[item] += 1\n",
    "   else:\n",
    "      frequency[item] = 1\n",
    "for key, value in frequency.items():\n",
    "   print(\"% s -> % d\" % (key, value))"
   ]
  },
  {
   "cell_type": "code",
   "execution_count": 139,
   "id": "3a88dde2",
   "metadata": {},
   "outputs": [
    {
     "data": {
      "text/plain": [
       "<function matplotlib.pyplot.show(close=None, block=None)>"
      ]
     },
     "execution_count": 139,
     "metadata": {},
     "output_type": "execute_result"
    },
    {
     "data": {
      "image/png": "[encoded data removed]",
      "text/plain": [
       "<Figure size 432x288 with 1 Axes>"
      ]
     },
     "metadata": {
      "needs_background": "light"
     },
     "output_type": "display_data"
    }
   ],
   "source": [
    "plt.hist(num_data, ec = \"black\")\n",
    "plt.title(\"Number Frequency\")\n",
    "plt.show"
   ]
  },
  {
   "cell_type": "code",
   "execution_count": 140,
   "id": "20c1d4e9",
   "metadata": {},
   "outputs": [],
   "source": [
    "import json\n",
    "with open(\"numbers.json\", \"w\") as outfile:\n",
    "    json.dump(frequency, outfile) "
   ]
  }
 ],
 "metadata": {
  "kernelspec": {
   "display_name": "Python 3 (ipykernel)",
   "language": "python",
   "name": "python3"
  },
  "language_info": {
   "codemirror_mode": {
    "name": "ipython",
    "version": 3
   },
   "file_extension": ".py",
   "mimetype": "text/x-python",
   "name": "python",
   "nbconvert_exporter": "python",
   "pygments_lexer": "ipython3",
   "version": "3.9.12"
  }
 },
 "nbformat": 4,
 "nbformat_minor": 5
}
